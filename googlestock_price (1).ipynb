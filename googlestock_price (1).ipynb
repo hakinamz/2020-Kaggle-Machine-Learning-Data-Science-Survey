{
  "nbformat": 4,
  "nbformat_minor": 0,
  "metadata": {
    "colab": {
      "name": "googlestock price.ipynb",
      "provenance": []
    },
    "kernelspec": {
      "display_name": "Python 3",
      "name": "python3"
    },
    "language_info": {
      "name": "python"
    }
  },
  "cells": [
    {
      "cell_type": "markdown",
      "metadata": {
        "id": "K3m1QjBjlm0q"
      },
      "source": [
        "**Loading Packages**"
      ]
    },
    {
      "cell_type": "code",
      "metadata": {
        "id": "-mriVee7H8OQ"
      },
      "source": [
        " library(dplyr)\n",
        "library(reshape)\n",
        "library(data.table)\n",
        "library(data.table)\n",
        "library(formattable)\n",
        "library(gridExtra)\n",
        "library(funModeling)"
      ],
      "execution_count": null,
      "outputs": []
    },
    {
      "cell_type": "markdown",
      "metadata": {
        "id": "4g3NITorw51L"
      },
      "source": [
        "**Loading Data**"
      ]
    },
    {
      "cell_type": "code",
      "metadata": {
        "id": "Yx_vXfjrI_n3"
      },
      "source": [
        "input_dir = '../input/'\n",
        "csv_files = list.files(input_dir, recursive = T, full.names = T)\n",
        "csv_files = csv_files[grep('google stock.csv', csv_files)]\n",
        "csv_files"
      ],
      "execution_count": null,
      "outputs": []
    },
    {
      "cell_type": "markdown",
      "metadata": {
        "id": "i66S5g8tmjMI"
      },
      "source": [
        "*now is the time to read our data*"
      ]
    },
    {
      "cell_type": "code",
      "metadata": {
        "id": "V2ld3Ej2xd9o"
      },
      "source": [
        "stock_price <- read_csv(\"../input/google-stock-price-all-time/google.csv\")"
      ],
      "execution_count": null,
      "outputs": []
    },
    {
      "cell_type": "markdown",
      "metadata": {
        "id": "FddAPh0Pxtk0"
      },
      "source": [
        "**Displaying google Stock Data**"
      ]
    },
    {
      "cell_type": "code",
      "metadata": {
        "id": "p8PzUwISxxcU"
      },
      "source": [
        "head(stock_price)"
      ],
      "execution_count": null,
      "outputs": []
    },
    {
      "cell_type": "code",
      "metadata": {
        "id": "oy_Mp68tyBR6"
      },
      "source": [
        "str(stock_price)"
      ],
      "execution_count": null,
      "outputs": []
    },
    {
      "cell_type": "code",
      "metadata": {
        "id": "TdxN8FrLyVMN"
      },
      "source": [
        "# Now, see the evolution of Open Prices \n",
        "\n",
        "ggplot(stock_price, aes(x=Date, y=stock)) +\n",
        "geom_line() +\n",
        "labs(title = \"Evolution of open price every day\")"
      ],
      "execution_count": null,
      "outputs": []
    },
    {
      "cell_type": "code",
      "metadata": {
        "id": "tWzWnie_ypf3"
      },
      "source": [
        "# Next we will show the ratio of correlogram and partial correlogram \n",
        "df %>% \n",
        "  ggplot(aes(x = date,y = stock))+\n",
        "  geom_line(color=\"grey\")+\n",
        "  geom_point(shape=21, color=\"black\", fill=\"#69b3a2\", size=6) +\n",
        "  ggtitle(\"Price / stock\")"
      ],
      "execution_count": null,
      "outputs": []
    },
    {
      "cell_type": "code",
      "metadata": {
        "id": "1cGHBmlMzDJN"
      },
      "source": [
        "placement_data %>% \n",
        "        ggplot(aes(correlogram,partial correlogram, alpha=0.2)) + \n",
        "            geom_tile() + \n",
        "            scale_fill_manual(values=c(\"yellow\", \"purple\"))"
      ],
      "execution_count": null,
      "outputs": []
    },
    {
      "cell_type": "code",
      "metadata": {
        "id": "wJtSJW5FzRjQ"
      },
      "source": [
        "stock-price.plot(x='date', y='stock',legend=True,figsize=(10,4))\n",
        "plt.ioff()"
      ],
      "execution_count": null,
      "outputs": []
    },
    {
      "cell_type": "markdown",
      "metadata": {
        "id": "o6wmKXoLznO7"
      },
      "source": [
        "**Volume traded for GOOGLE Stock**"
      ]
    },
    {
      "cell_type": "code",
      "metadata": {
        "id": "ZuyFSVupzs2v"
      },
      "source": [
        "title='VOLUME TRADED'\n",
        "ylabel='Partial Correlogram'\n",
        "xlabel='Correlogram'"
      ],
      "execution_count": null,
      "outputs": []
    },
    {
      "cell_type": "code",
      "metadata": {
        "colab": {
          "base_uri": "https://localhost:8080/",
          "height": 277
        },
        "id": "70chPT1RJLCV",
        "outputId": "67511d75-1a2f-4eb2-d436-1d2d04fd036c"
      },
      "source": [
        "ax=GOOG.plot(x='date', y='stock',legend=True,figsize=(10,4));\n",
        "ax.autoscale(axis='x',tight=True)  # use both if want to scale both axis\n",
        "ax.set(xlabel=xlabel,ylabel=ylabel)\n",
        "plt.ioff()"
      ],
      "execution_count": null,
      "outputs": [
        {
          "output_type": "display_data",
          "data": {
            "image/png": "[encoded data removed]",
            "text/plain": [
              "<Figure size 720x288 with 1 Axes>"
            ]
          },
          "metadata": {}
        }
      ]
    },
    {
      "cell_type": "markdown",
      "metadata": {
        "id": "e6YLxy-C0wYc"
      },
      "source": [
        "**Plotting Stock Price Between Specified Time**"
      ]
    },
    {
      "cell_type": "code",
      "metadata": {
        "id": "5BNzojZ201d4"
      },
      "source": [
        "stock-price.plot(x='date', y='stock',xlim=['2005-07-02','2005-07-07'],ylim=[80,180],legend=True,figsize=(10,4),ls='--',c='red')\n",
        "plt.ioff()"
      ],
      "execution_count": null,
      "outputs": []
    },
    {
      "cell_type": "markdown",
      "metadata": {
        "id": "MYPGXCQ1s2Z0"
      },
      "source": [
        " A time series is white noise if the variables are independent and identically distributed with a mean of zero. This means that all variables have the same variance (sigma^2) and each value has a zero correlation with all other values in the time series\n",
        "\n",
        " equation\n",
        " **rnorm(n, mean = 0, sd = 1)**"
      ]
    },
    {
      "cell_type": "markdown",
      "metadata": {
        "id": "590TYrL38aAb"
      },
      "source": [
        "**Conclusion**\n",
        "\n",
        "  In this Notebook we have explored stock prices of google stocks.We have looked at the historical price of stock price.We have looked at the volume of stock traded.\n",
        "\n",
        "  We have looked at the daily Return of stock.We have done correlogram between the stock prices.maximum daily fluctuation in ths stock is 8 % .In stock exchange there is a limit on per day fluctuation of stock.So if the stock reaches the threshold value then the trading of the stock is stopped for that day\n",
        "\n",
        "  We have used Facebook Prophet to predict the stock price of Google  Stock.The model predicts that the google preice increase and decreased.Ivestors must have made good money on it.Weekly trend shows that the Stock price increase is highest on Tuesday then reduces as week proceeds.Please do note that Saturday and Sunday are off for the Stock Exchange.The annual trend shows the seasoniality of the stock.It can be figured out the stock price peaks in month of june."
      ]
    },
    {
      "cell_type": "code",
      "metadata": {
        "id": "JA0E2GKMJd5Z"
      },
      "source": [
        ""
      ],
      "execution_count": null,
      "outputs": []
    },
    {
      "cell_type": "code",
      "metadata": {
        "id": "pVzKeRLiJ2JU"
      },
      "source": [
        ""
      ],
      "execution_count": null,
      "outputs": []
    },
    {
      "cell_type": "code",
      "metadata": {
        "id": "hEHWmTLqJ58G"
      },
      "source": [
        ""
      ],
      "execution_count": null,
      "outputs": []
    },
    {
      "cell_type": "code",
      "metadata": {
        "id": "xfvOQpJqKUsT"
      },
      "source": [
        ""
      ],
      "execution_count": null,
      "outputs": []
    }
  ]
}